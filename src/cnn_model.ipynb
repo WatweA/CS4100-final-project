{
 "cells": [
  {
   "cell_type": "code",
   "execution_count": null,
   "metadata": {
    "collapsed": true
   },
   "outputs": [],
   "source": [
    "import numpy as np\n",
    "import pandas as pd\n",
    "import pandas_market_calendars as mcal"
   ]
  },
  {
   "cell_type": "code",
   "execution_count": null,
   "outputs": [],
   "source": [
    "\n",
    "# define the tickers and indicators used\n",
    "# exchange tickers\n",
    "tickers = list([\n",
    "    \"SPY\",  # S&P 500 Index Fund\n",
    "    \"IWV\",  # Russell 3000 Index Fund\n",
    "    \"QQQ\",  # Technology Sector Fund\n",
    "    \"IYF\",  # Financials Sector Fund\n",
    "    \"XLP\",  # Consumer Staples Sector Fund\n",
    "    \"XLU\",  # Utilities Sector Funds\n",
    "    \"XLV\",  # Health Care Sector Funds\n",
    "    \"IGE\",  # NA Natural Resources ETF\n",
    "    \"XLE\"  # Energy Sector Fund\n",
    "])\n",
    "\n",
    "# alias and FRED indicator\n",
    "indicators = {\n",
    "    \"3M_TBILL\": \"DTB3\",  # 3-Month Treasury Bill: Secondary Market Rate\n",
    "    \"CPI\": \"MEDCPIM158SFRBCLE\",  # Median Consumer Price Index\n",
    "    \"VIX\": \"VIXCLS\",  # CBOE Volatility Index\n",
    "    \"INDP\": \"INDPRO\",  # Industrial Production: Total Index\n",
    "    \"USHY_ADJ\": \"BAMLH0A0HYM2\",  # ICE BofA US High Yield Index Option-Adjusted Spread\n",
    "    \"US_LEADING\": \"USSLIND\",  # Leading Index for the United States\n",
    "    \"30Y_FRMTG\": \"MORTGAGE30US\",  # 30-Year Fixed Rate Mortgage Average in the United States\n",
    "    \"15Y_FRMTG\": \"MORTGAGE15US\",  # 15-Year Fixed Rate Mortgage Average in the United States\n",
    "    \"CPI_URBAN\": \"CUSR0000SEHA\",  # Consumer Price Index for All Urban Consumers: Rent of Primary Residence in U.S. City Average\n",
    "    \"RETAIL\": \"RSAFS\",  # Advance Retail Sales: Retail and Food Services, Total\n",
    "    \"PHARMA\": \"PCU32543254\",  # Producer Price Index by Industry: Pharmaceutical and Medicine Manufacturing\n",
    "    \"UNEMP\": \"UNRATE\",  # Unemployment Rate\n",
    "    \"UNEMP_PERM\": \"LNS13026638\",  # Unemployment Level - Permanent Job Losers\n",
    "    \"UNEMP_MEN\": \"LNS14000001\",  # Unemployment Rate - Men\n",
    "    \"UNEMP_WMN\": \"LNS14000002\",  # Unemployment Rate - Women\n",
    "    \"UNEMP_WHT\": \"LNS14000003\",  # Unemployment Rate - White\n",
    "    \"UNEMP_BLK\": \"LNS14000006\",  # Unemployment Rate - Black or African American\n",
    "    \"UNEMP_HIS\": \"LNS14000009\",  # Unemployment Rate - Hispanic or Latino\n",
    "    \"INC\": \"PI\",  # Personal Income\n",
    "    \"INC_DISP\": \"DSPIC96\",  # Real Disposable Personal Income\n",
    "    \"INC_DISP_PC\": \"A229RX0\",  # Real Disposable Personal Income: Per Capita\n",
    "    \"TAX_HIGH\": \"IITTRHB\",  # U.S Individual Income Tax: Tax Rates for Regular Tax: Highest Bracket\n",
    "    \"TAX_LOW\": \"IITTRLB\"  # U.S Individual Income Tax: Tax Rates for Regular Tax: Lowest Bracket\n",
    "}\n",
    "\n"
   ],
   "metadata": {
    "collapsed": false,
    "pycharm": {
     "name": "#%%\n"
    }
   }
  }
 ],
 "metadata": {
  "kernelspec": {
   "display_name": "Python 3",
   "language": "python",
   "name": "python3"
  },
  "language_info": {
   "codemirror_mode": {
    "name": "ipython",
    "version": 2
   },
   "file_extension": ".py",
   "mimetype": "text/x-python",
   "name": "python",
   "nbconvert_exporter": "python",
   "pygments_lexer": "ipython2",
   "version": "2.7.6"
  }
 },
 "nbformat": 4,
 "nbformat_minor": 0
}