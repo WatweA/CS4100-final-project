{
 "cells": [
  {
   "cell_type": "code",
   "execution_count": null,
   "metadata": {
    "pycharm": {
     "is_executing": true,
     "name": "#%%\n"
    }
   },
   "outputs": [],
   "source": [
    "import numpy as np\n",
    "import pandas as pd\n",
    "import pandas_market_calendars as mcal\n",
    "from sklearn.metrics import mean_squared_error, median_absolute_error\n",
    "from sklearn.metrics import confusion_matrix, accuracy_score, precision_score, recall_score, f1_score\n",
    "from sklearn.model_selection import GridSearchCV, PredefinedSplit\n",
    "from sklearn.preprocessing import StandardScaler, QuantileTransformer\n",
    "from tensorflow.keras.preprocessing import timeseries_dataset_from_array\n",
    "from tensorflow.keras import Sequential\n",
    "from tensorflow.keras.layers import Dense, Dropout, Conv2D\n",
    "from tensorflow.keras.metrics import MeanSquaredError, RootMeanSquaredError\n",
    "from tensorflow.keras.wrappers.scikit_learn import KerasRegressor"
   ]
  },
  {
   "cell_type": "markdown",
   "metadata": {},
   "source": [
    "#### define the tickers and indicators used"
   ]
  },
  {
   "cell_type": "code",
   "execution_count": null,
   "metadata": {
    "pycharm": {
     "is_executing": true,
     "name": "#%%\n"
    }
   },
   "outputs": [],
   "source": [
    "# exchange tickers\n",
    "tickers = list([\n",
    "    \"SPY\",  # S&P 500 Index Fund\n",
    "    \"IWV\",  # Russell 3000 Index Fund\n",
    "    \"QQQ\",  # Technology Sector Fund\n",
    "    \"IYF\",  # Financials Sector Fund\n",
    "    \"XLP\",  # Consumer Staples Sector Fund\n",
    "    \"XLU\",  # Utilities Sector Funds\n",
    "    \"XLV\",  # Health Care Sector Funds\n",
    "    \"IGE\",  # NA Natural Resources ETF\n",
    "    \"XLE\"  # Energy Sector Fund\n",
    "])\n",
    "\n",
    "# alias and FRED indicator\n",
    "indicators = dict({\n",
    "    \"3M_TBILL\": \"DTB3\",  # 3-Month Treasury Bill: Secondary Market Rate\n",
    "    \"CPI\": \"MEDCPIM158SFRBCLE\",  # Median Consumer Price Index\n",
    "    \"VIX\": \"VIXCLS\",  # CBOE Volatility Index\n",
    "    \"INDP\": \"INDPRO\",  # Industrial Production: Total Index\n",
    "    \"USHY_ADJ\": \"BAMLH0A0HYM2\",  # ICE BofA US High Yield Index Option-Adjusted Spread\n",
    "    \"US_LEADING\": \"USSLIND\",  # Leading Index for the United States\n",
    "    \"30Y_FRMTG\": \"MORTGAGE30US\",  # 30-Year Fixed Rate Mortgage Average in the United States\n",
    "    \"15Y_FRMTG\": \"MORTGAGE15US\",  # 15-Year Fixed Rate Mortgage Average in the United States\n",
    "    \"CPI_URBAN\": \"CUSR0000SEHA\",  # Consumer Price Index for All Urban Consumers: Rent of Primary Residence in U.S. City Average\n",
    "    \"RETAIL\": \"RSAFS\",  # Advance Retail Sales: Retail and Food Services, Total\n",
    "    \"PHARMA\": \"PCU32543254\",  # Producer Price Index by Industry: Pharmaceutical and Medicine Manufacturing\n",
    "    \"UNEMP\": \"UNRATE\",  # Unemployment Rate\n",
    "    \"UNEMP_PERM\": \"LNS13026638\",  # Unemployment Level - Permanent Job Losers\n",
    "    \"UNEMP_MEN\": \"LNS14000001\",  # Unemployment Rate - Men\n",
    "    \"UNEMP_WMN\": \"LNS14000002\",  # Unemployment Rate - Women\n",
    "    \"UNEMP_WHT\": \"LNS14000003\",  # Unemployment Rate - White\n",
    "    \"UNEMP_BLK\": \"LNS14000006\",  # Unemployment Rate - Black or African American\n",
    "    \"UNEMP_HIS\": \"LNS14000009\",  # Unemployment Rate - Hispanic or Latino\n",
    "    \"INC\": \"PI\",  # Personal Income\n",
    "    \"INC_DISP\": \"DSPIC96\",  # Real Disposable Personal Income\n",
    "    \"INC_DISP_PC\": \"A229RX0\",  # Real Disposable Personal Income: Per Capita\n",
    "    \"TAX_HIGH\": \"IITTRHB\",  # U.S Individual Income Tax: Tax Rates for Regular Tax: Highest Bracket\n",
    "    \"TAX_LOW\": \"IITTRLB\"  # U.S Individual Income Tax: Tax Rates for Regular Tax: Lowest Bracket\n",
    "})"
   ]
  },
  {
   "cell_type": "code",
   "execution_count": null,
   "metadata": {
    "pycharm": {
     "is_executing": true,
     "name": "#%%\n"
    }
   },
   "outputs": [],
   "source": [
    "features = []\n",
    "for ticker in tickers:\n",
    "    for calculation in ['RET', 'VOL']:\n",
    "        features.append(f'{ticker}_1D_{calculation}')\n",
    "    for timeframe in ['1W', '1M', '3M', '6M']:\n",
    "        for calculation in ['RET', 'STD', 'VOL', 'GBM']:\n",
    "            features.append(f'{ticker}_{timeframe}_{calculation}')\n",
    "    for calculation in ['RET', 'STD', 'VOL']:\n",
    "        features.append(f'{ticker}_1Y_{calculation}')\n",
    "for indicator in indicators.keys():\n",
    "    features.append(indicator)\n",
    "len(features)"
   ]
  },
  {
   "cell_type": "code",
   "execution_count": null,
   "metadata": {
    "pycharm": {
     "is_executing": true,
     "name": "#%%\n"
    }
   },
   "outputs": [],
   "source": [
    "targets = [f'{ticker}_TARGET' for ticker in tickers]\n",
    "targets"
   ]
  },
  {
   "cell_type": "markdown",
   "metadata": {},
   "source": [
    "#### Split the data into training, testing, and validation sets"
   ]
  },
  {
   "cell_type": "code",
   "execution_count": null,
   "metadata": {
    "pycharm": {
     "is_executing": true,
     "name": "#%%\n"
    }
   },
   "outputs": [],
   "source": [
    "# construct a dictionary with all market data in divided into sets and features/targets\n",
    "dates = mcal.get_calendar('NYSE').schedule(start_date='2004-01-01', end_date='2020-12-31').index\n",
    "market_data = dict({\n",
    "    \"X\" : pd.read_pickle(\"data/market_data.zip\").loc[:, features],\n",
    "    \"y\" : pd.read_pickle(\"data/market_data.zip\").loc[:, targets]\n",
    "})\n",
    "market_data[\"X_train\"] = market_data[\"X\"].loc['2004-01-01':'2015-12-31', :]\n",
    "market_data[\"y_train\"] = market_data[\"y\"].loc['2004-01-01':'2015-12-31', :]\n",
    "market_data[\"X_test\"] = market_data[\"X\"].loc['2016-01-01':'2020-12-31', :]\n",
    "market_data[\"y_test\"] = market_data[\"y\"].loc['2016-01-01':'2020-12-31', :]\n",
    "market_data[\"X\"] = market_data[\"X\"].loc['2004-01-01':'2020-12-31', :]\n",
    "market_data[\"y\"] = market_data[\"y\"].loc['2004-01-01':'2020-12-31', :]\n",
    "\n",
    "# Create split on train_all with -1 for training data and 0 for validation data (data after '2013-01-01')\n",
    "split = PredefinedSplit(test_fold=[0 if v else -1 for v in market_data[\"X_train\"].index < '2013-01-01'])"
   ]
  },
  {
   "cell_type": "code",
   "execution_count": null,
   "metadata": {
    "pycharm": {
     "is_executing": true,
     "name": "#%%\n"
    }
   },
   "outputs": [],
   "source": [
    "# Create a 3D input with each row being #feature_columns x #time_steps\n",
    "def create_dataset (X, y, time_steps = 21):\n",
    "    Xs, ys = [], []\n",
    "    for i in range(len(X) - time_steps):\n",
    "        Xs.append(np.array(X[i:i + time_steps, :]))\n",
    "        ys.append(y[i + time_steps])\n",
    "    return np.array(Xs), np.array(ys)\n",
    "X_3D, y_3D = create_dataset(np.array(market_data[\"X\"]), np.array(market_data[\"y\"]))\n",
    "X_3D[2]"
   ]
  },
  {
   "cell_type": "code",
   "execution_count": null,
   "metadata": {
    "pycharm": {
     "is_executing": true,
     "name": "#%%\n"
    }
   },
   "outputs": [],
   "source": [
    "np.array(market_data[\"X\"].iloc[2+21,:])"
   ]
  },
  {
   "cell_type": "markdown",
   "metadata": {},
   "source": [
    "#### define the Keras CNN"
   ]
  },
  {
   "cell_type": "code",
   "execution_count": null,
   "metadata": {
    "pycharm": {
     "is_executing": true,
     "name": "#%%\n"
    }
   },
   "outputs": [],
   "source": [
    "def build_CNN():\n",
    "    cnn = Sequential()\n",
    "    cnn.add(Conv2D(filters=9, kernel_size=1, input_shape=(128, 128, 3)))\n"
   ]
  }
 ],
 "metadata": {
  "kernelspec": {
   "display_name": "Python 3",
   "language": "python",
   "name": "python3"
  },
  "language_info": {
   "codemirror_mode": {
    "name": "ipython",
    "version": 3
   },
   "file_extension": ".py",
   "mimetype": "text/x-python",
   "name": "python",
   "nbconvert_exporter": "python",
   "pygments_lexer": "ipython3",
   "version": "3.8.8"
  }
 },
 "nbformat": 4,
 "nbformat_minor": 1
}
